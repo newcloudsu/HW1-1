{
 "cells": [
  {
   "cell_type": "code",
   "execution_count": 168,
   "metadata": {
    "collapsed": true
   },
   "outputs": [],
   "source": [
    "import csv\n",
    "import numpy as np\n",
    "import math"
   ]
  },
  {
   "cell_type": "code",
   "execution_count": 169,
   "metadata": {
    "collapsed": true
   },
   "outputs": [],
   "source": [
    "data = []\n",
    "# 7 features\n",
    "for i in range(7):\n",
    "    data.append([])\n",
    "    \n",
    "    \n",
    "# 開啟 CSV 檔案\n",
    "with open('banqiao.csv', newline='') as file:\n",
    "\n",
    "    # 讀取 CSV 檔案內容\n",
    "    csvreader = csv.reader(file)\n",
    "    \n",
    "    # process with line\n",
    "    first_line = True\n",
    "    \n",
    "    for line in csvreader :\n",
    "        # except first line\n",
    "        if first_line != True :\n",
    "            \n",
    "             # 7 features\n",
    "            for i in range(7) :\n",
    "                data[i].append(line[i+1])\n",
    "        else :\n",
    "            first_line = False\n",
    "    "
   ]
  },
  {
   "cell_type": "code",
   "execution_count": 170,
   "metadata": {
    "collapsed": true
   },
   "outputs": [],
   "source": [
    "# for all data\n",
    "for i in range(8784) :\n",
    "    # string to float\n",
    "    data[0][i] = float(data[0][i]) # air pressure\n",
    "    data[1][i] = float(data[1][i]) # temperature\n",
    "    data[2][i] = float(data[2][i]) # humidity\n",
    "    data[6][i] = float(data[6][i]) # sunshine time\n",
    "    \n",
    "    # rainfall\n",
    "    if ( data[5][i] == 'T' ) :\n",
    "        data[5][i] = 0.05\n",
    "    else :\n",
    "        data[5][i] = float(data[5][i])\n",
    "    \n",
    "    # wind speed\n",
    "    wind_speed = float(data[3][i])\n",
    "    \n",
    "    # wind direction to polar form\n",
    "    wind_direction = 0.0\n",
    "    raw_wind_direction = data[4][i]\n",
    "    if raw_wind_direction == '北,N' :\n",
    "        wind_direction = 0.0\n",
    "    elif raw_wind_direction == '北北東,NNE' :\n",
    "        wind_direction = 22.5\n",
    "    elif raw_wind_direction == '東北,NE' :\n",
    "        wind_direction = 45.0\n",
    "    elif raw_wind_direction == '東北東,ENE' :\n",
    "        wind_direction = 67.5\n",
    "    elif raw_wind_direction == '東,E' :\n",
    "        wind_direction = 90.0\n",
    "    elif raw_wind_direction == '東南東,ESE' :\n",
    "        wind_direction = 112.5\n",
    "    elif raw_wind_direction == '東南,ES' :\n",
    "        wind_direction = 135.0\n",
    "    elif raw_wind_direction == '南南東,SSE' :\n",
    "        wind_direction = 157.5\n",
    "    elif raw_wind_direction == '南,S' :\n",
    "        wind_direction = 180.0\n",
    "    elif raw_wind_direction == '南南西,SSW' :\n",
    "        wind_direction = 202.5\n",
    "    elif raw_wind_direction == '西南,WS' :\n",
    "        wind_direction = 225.0\n",
    "    elif raw_wind_direction == '西南西,WSW' :\n",
    "        wind_direction = 247.5\n",
    "    elif raw_wind_direction == '西,W' :\n",
    "        wind_direction = 270.0\n",
    "    elif raw_wind_direction == '西北西,WNW' :\n",
    "        wind_direction = 292.5\n",
    "    elif raw_wind_direction == '西北,WN' :\n",
    "        wind_direction = 315.0\n",
    "    elif raw_wind_direction == '北北西,NNW' :\n",
    "        wind_direction = 337.5\n",
    "    elif raw_wind_direction == '靜風,Calm' :\n",
    "        wind_direction = 0\n",
    "    elif raw_wind_direction == '風向不定,Variable' :\n",
    "        wind_direction = 0\n",
    "    else :\n",
    "        print(raw_wind_direction)\n",
    "        \n",
    "    wind_direction=wind_direction/360\n",
    "    \n",
    "    data[3][i] = wind_speed*math.sin(wind_direction)\n",
    "    #x-axis\n",
    "    \n",
    "    data[4][i] = wind_speed*math.cos(wind_direction)\n",
    "    #y-axis"
   ]
  },
  {
   "cell_type": "code",
   "execution_count": 171,
   "metadata": {},
   "outputs": [],
   "source": [
    "std_data=[]\n",
    "for i in range(len(data)) :\n",
    "    std_data.append((data[i]-np.mean(data[i]))/np.std(data[i]))"
   ]
  },
  {
   "cell_type": "code",
   "execution_count": 209,
   "metadata": {},
   "outputs": [],
   "source": [
    "std_data = np.array(std_data)\n",
    "\n",
    "np.save('weight.npy',w)\n",
    "\n",
    "\n",
    "data_save=[]\n",
    "for i in range(7):\n",
    "    data_save.append(np.mean(data[i]))\n",
    "    data_save.append(np.std(data[i]))\n",
    "    \n",
    "data_save = np.array(data_save)\n",
    "    \n",
    "    \n",
    "np.save('mean_std.npy',data_save)"
   ]
  },
  {
   "cell_type": "code",
   "execution_count": null,
   "metadata": {
    "collapsed": true
   },
   "outputs": [],
   "source": []
  },
  {
   "cell_type": "code",
   "execution_count": 173,
   "metadata": {},
   "outputs": [],
   "source": [
    "train=[]\n",
    "ans=[]\n",
    "\n",
    "for i in range(8775):\n",
    "    train.append([])\n",
    "    \n",
    "    for j in range(7):\n",
    "        \n",
    "        for k in range(9):\n",
    "           train[i].append(std_data[j][k])\n",
    "            \n",
    "   \n",
    "    ans.append(data[1][i+9])\n",
    "\n",
    "\n",
    "ans = np.array(ans)\n",
    "train = np.array(train)"
   ]
  },
  {
   "cell_type": "code",
   "execution_count": 174,
   "metadata": {},
   "outputs": [
    {
     "data": {
      "text/plain": [
       "array([[ 0.62463124,  0.49804971,  0.46992048, ..., -0.3036155 ,\n",
       "        -0.3036155 , -0.3036155 ],\n",
       "       [ 0.62463124,  0.49804971,  0.46992048, ..., -0.3036155 ,\n",
       "        -0.3036155 , -0.3036155 ],\n",
       "       [ 0.62463124,  0.49804971,  0.46992048, ..., -0.3036155 ,\n",
       "        -0.3036155 , -0.3036155 ],\n",
       "       ..., \n",
       "       [ 0.62463124,  0.49804971,  0.46992048, ..., -0.3036155 ,\n",
       "        -0.3036155 , -0.3036155 ],\n",
       "       [ 0.62463124,  0.49804971,  0.46992048, ..., -0.3036155 ,\n",
       "        -0.3036155 , -0.3036155 ],\n",
       "       [ 0.62463124,  0.49804971,  0.46992048, ..., -0.3036155 ,\n",
       "        -0.3036155 , -0.3036155 ]])"
      ]
     },
     "execution_count": 174,
     "metadata": {},
     "output_type": "execute_result"
    }
   ],
   "source": [
    "train"
   ]
  },
  {
   "cell_type": "code",
   "execution_count": 175,
   "metadata": {},
   "outputs": [
    {
     "data": {
      "text/plain": [
       "array([ 18.8,  18.8,  20.4, ...,  15.9,  15.4,  15.1])"
      ]
     },
     "execution_count": 175,
     "metadata": {},
     "output_type": "execute_result"
    }
   ],
   "source": [
    "ans"
   ]
  },
  {
   "cell_type": "code",
   "execution_count": 210,
   "metadata": {},
   "outputs": [],
   "source": [
    "w = np.zeros(63)\n",
    "\n",
    "lr=1\n",
    "#learning rate\n",
    "\n",
    "grad_sum=0\n",
    "for i in range(8775):\n",
    "    predict=np.dot(train[i],w)\n",
    "\n",
    "    loss=(predict-ans[i])**2\n",
    "    \n",
    "    grad=2*(predict-ans[i])*train[i]\n",
    "    \n",
    "    grad_sum=(grad_sum+grad**2)\n",
    "    sigma=grad_sum**0.5\n",
    "    \n",
    "    \n",
    "    w=w-lr*grad/sigma\n",
    "    # dL/dW = 2*loss*train[i] =gradient\n",
    "    \n",
    "    #if i==8000:\n",
    "    #    print(ans[i])\n",
    "    #    print(predict)\n",
    "    #    print(loss)\n",
    "    #    print(w)\n",
    "        \n",
    "np.save('weight.npy',w)\n",
    "    "
   ]
  },
  {
   "cell_type": "code",
   "execution_count": null,
   "metadata": {
    "collapsed": true
   },
   "outputs": [],
   "source": []
  }
 ],
 "metadata": {
  "kernelspec": {
   "display_name": "Python 3",
   "language": "python",
   "name": "python3"
  },
  "language_info": {
   "codemirror_mode": {
    "name": "ipython",
    "version": 3
   },
   "file_extension": ".py",
   "mimetype": "text/x-python",
   "name": "python",
   "nbconvert_exporter": "python",
   "pygments_lexer": "ipython3",
   "version": "3.6.3"
  }
 },
 "nbformat": 4,
 "nbformat_minor": 2
}
